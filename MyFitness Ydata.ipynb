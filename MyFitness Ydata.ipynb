{
 "cells": [
  {
   "cell_type": "code",
   "execution_count": 1,
   "id": "7ab60d2b-6db8-4fa8-842d-73ac64cf9a89",
   "metadata": {},
   "outputs": [
    {
     "data": {
      "text/html": [
       "\n",
       "            <div>\n",
       "                <ins><a href=\"https://ydata.ai/register\">Upgrade to ydata-sdk</a></ins>\n",
       "                <p>\n",
       "                    Improve your data and profiling with ydata-sdk, featuring data quality scoring, redundancy detection, outlier identification, text validation, and synthetic data generation.\n",
       "                </p>\n",
       "            </div>\n",
       "            "
      ],
      "text/plain": [
       "<IPython.core.display.HTML object>"
      ]
     },
     "metadata": {},
     "output_type": "display_data"
    }
   ],
   "source": [
    "import pandas as pd\n",
    "from ydata_profiling import ProfileReport"
   ]
  },
  {
   "cell_type": "code",
   "execution_count": 2,
   "id": "fedf12b2-2607-43cf-ab6b-f3c1b7e5541b",
   "metadata": {},
   "outputs": [
    {
     "data": {
      "text/html": [
       "<div>\n",
       "<style scoped>\n",
       "    .dataframe tbody tr th:only-of-type {\n",
       "        vertical-align: middle;\n",
       "    }\n",
       "\n",
       "    .dataframe tbody tr th {\n",
       "        vertical-align: top;\n",
       "    }\n",
       "\n",
       "    .dataframe thead th {\n",
       "        text-align: right;\n",
       "    }\n",
       "</style>\n",
       "<table border=\"1\" class=\"dataframe\">\n",
       "  <thead>\n",
       "    <tr style=\"text-align: right;\">\n",
       "      <th></th>\n",
       "      <th>Full_date</th>\n",
       "      <th>Day_Name</th>\n",
       "      <th>steps</th>\n",
       "      <th>Activity</th>\n",
       "      <th>distance</th>\n",
       "      <th>runDistance</th>\n",
       "      <th>calories</th>\n",
       "      <th>Year</th>\n",
       "      <th>Month Name</th>\n",
       "      <th>DayType</th>\n",
       "      <th>Full_date (Quarter)</th>\n",
       "      <th>Full_date (Month Index)</th>\n",
       "      <th>Full_date (Month)</th>\n",
       "      <th>deepSleepTime</th>\n",
       "      <th>shallowSleepTime</th>\n",
       "      <th>wakeTime</th>\n",
       "      <th>start</th>\n",
       "      <th>stop</th>\n",
       "    </tr>\n",
       "  </thead>\n",
       "  <tbody>\n",
       "    <tr>\n",
       "      <th>0</th>\n",
       "      <td>1-May-16</td>\n",
       "      <td>Sunday</td>\n",
       "      <td>3869</td>\n",
       "      <td>Low</td>\n",
       "      <td>2651</td>\n",
       "      <td>0</td>\n",
       "      <td>244</td>\n",
       "      <td>2016</td>\n",
       "      <td>May</td>\n",
       "      <td>Weekend</td>\n",
       "      <td>Qtr2</td>\n",
       "      <td>5</td>\n",
       "      <td>May</td>\n",
       "      <td>0</td>\n",
       "      <td>0</td>\n",
       "      <td>0</td>\n",
       "      <td>1461708000</td>\n",
       "      <td>1461708000</td>\n",
       "    </tr>\n",
       "    <tr>\n",
       "      <th>1</th>\n",
       "      <td>8-May-16</td>\n",
       "      <td>Sunday</td>\n",
       "      <td>4088</td>\n",
       "      <td>Low</td>\n",
       "      <td>3119</td>\n",
       "      <td>0</td>\n",
       "      <td>197</td>\n",
       "      <td>2016</td>\n",
       "      <td>May</td>\n",
       "      <td>Weekend</td>\n",
       "      <td>Qtr2</td>\n",
       "      <td>5</td>\n",
       "      <td>May</td>\n",
       "      <td>158</td>\n",
       "      <td>262</td>\n",
       "      <td>2</td>\n",
       "      <td>1461801240</td>\n",
       "      <td>1461826560</td>\n",
       "    </tr>\n",
       "    <tr>\n",
       "      <th>2</th>\n",
       "      <td>9-May-16</td>\n",
       "      <td>Monday</td>\n",
       "      <td>1958</td>\n",
       "      <td>Low</td>\n",
       "      <td>1266</td>\n",
       "      <td>0</td>\n",
       "      <td>134</td>\n",
       "      <td>2016</td>\n",
       "      <td>May</td>\n",
       "      <td>Weekday</td>\n",
       "      <td>Qtr2</td>\n",
       "      <td>5</td>\n",
       "      <td>May</td>\n",
       "      <td>234</td>\n",
       "      <td>241</td>\n",
       "      <td>0</td>\n",
       "      <td>1461883500</td>\n",
       "      <td>1461912000</td>\n",
       "    </tr>\n",
       "    <tr>\n",
       "      <th>3</th>\n",
       "      <td>11-May-16</td>\n",
       "      <td>Wednesday</td>\n",
       "      <td>2569</td>\n",
       "      <td>Low</td>\n",
       "      <td>1661</td>\n",
       "      <td>0</td>\n",
       "      <td>198</td>\n",
       "      <td>2016</td>\n",
       "      <td>May</td>\n",
       "      <td>Weekday</td>\n",
       "      <td>Qtr2</td>\n",
       "      <td>5</td>\n",
       "      <td>May</td>\n",
       "      <td>239</td>\n",
       "      <td>318</td>\n",
       "      <td>0</td>\n",
       "      <td>1461979500</td>\n",
       "      <td>1462012920</td>\n",
       "    </tr>\n",
       "    <tr>\n",
       "      <th>4</th>\n",
       "      <td>13-May-16</td>\n",
       "      <td>Friday</td>\n",
       "      <td>4276</td>\n",
       "      <td>Low</td>\n",
       "      <td>2809</td>\n",
       "      <td>0</td>\n",
       "      <td>251</td>\n",
       "      <td>2016</td>\n",
       "      <td>May</td>\n",
       "      <td>Weekday</td>\n",
       "      <td>Qtr2</td>\n",
       "      <td>5</td>\n",
       "      <td>May</td>\n",
       "      <td>180</td>\n",
       "      <td>333</td>\n",
       "      <td>3</td>\n",
       "      <td>1462065840</td>\n",
       "      <td>1462096800</td>\n",
       "    </tr>\n",
       "  </tbody>\n",
       "</table>\n",
       "</div>"
      ],
      "text/plain": [
       "   Full_date   Day_Name  steps Activity  distance  runDistance  calories  \\\n",
       "0   1-May-16     Sunday   3869      Low      2651            0       244   \n",
       "1   8-May-16     Sunday   4088      Low      3119            0       197   \n",
       "2   9-May-16     Monday   1958      Low      1266            0       134   \n",
       "3  11-May-16  Wednesday   2569      Low      1661            0       198   \n",
       "4  13-May-16     Friday   4276      Low      2809            0       251   \n",
       "\n",
       "   Year Month Name  DayType Full_date (Quarter)  Full_date (Month Index)  \\\n",
       "0  2016        May  Weekend                Qtr2                        5   \n",
       "1  2016        May  Weekend                Qtr2                        5   \n",
       "2  2016        May  Weekday                Qtr2                        5   \n",
       "3  2016        May  Weekday                Qtr2                        5   \n",
       "4  2016        May  Weekday                Qtr2                        5   \n",
       "\n",
       "  Full_date (Month)  deepSleepTime  shallowSleepTime  wakeTime       start  \\\n",
       "0               May              0                 0         0  1461708000   \n",
       "1               May            158               262         2  1461801240   \n",
       "2               May            234               241         0  1461883500   \n",
       "3               May            239               318         0  1461979500   \n",
       "4               May            180               333         3  1462065840   \n",
       "\n",
       "         stop  \n",
       "0  1461708000  \n",
       "1  1461826560  \n",
       "2  1461912000  \n",
       "3  1462012920  \n",
       "4  1462096800  "
      ]
     },
     "execution_count": 2,
     "metadata": {},
     "output_type": "execute_result"
    }
   ],
   "source": [
    "df = pd.read_csv(\"MySteps.csv\")\n",
    "df.head()"
   ]
  },
  {
   "cell_type": "code",
   "execution_count": 3,
   "id": "cf0b55e5-fa56-4559-b140-b170ec9eb270",
   "metadata": {},
   "outputs": [],
   "source": [
    "profile = ProfileReport(df, title=\"My Steps - EDA Report\", explorative=True)"
   ]
  },
  {
   "cell_type": "code",
   "execution_count": 4,
   "id": "d47fa609-c051-4f27-8551-bc2277aaf617",
   "metadata": {},
   "outputs": [
    {
     "data": {
      "application/vnd.jupyter.widget-view+json": {
       "model_id": "2a91f9c49fed484e968ea71aa51fb39c",
       "version_major": 2,
       "version_minor": 0
      },
      "text/plain": [
       "Summarize dataset:   0%|          | 0/5 [00:00<?, ?it/s]"
      ]
     },
     "metadata": {},
     "output_type": "display_data"
    },
    {
     "name": "stderr",
     "output_type": "stream",
     "text": [
      "\n",
      "  0%|                                                                                                                               | 0/18 [00:00<?, ?it/s]\u001b[A\n",
      "100%|██████████████████████████████████████████████████████████████████████████████████████████████████████████████████████| 18/18 [00:01<00:00, 13.93it/s]\u001b[A\n"
     ]
    },
    {
     "data": {
      "application/vnd.jupyter.widget-view+json": {
       "model_id": "fb8db0211bfe4e58a43605c060783a59",
       "version_major": 2,
       "version_minor": 0
      },
      "text/plain": [
       "Generate report structure:   0%|          | 0/1 [00:00<?, ?it/s]"
      ]
     },
     "metadata": {},
     "output_type": "display_data"
    },
    {
     "data": {
      "application/vnd.jupyter.widget-view+json": {
       "model_id": "1947a3aa34ed4642b4e806cc470e4e70",
       "version_major": 2,
       "version_minor": 0
      },
      "text/plain": [
       "Render HTML:   0%|          | 0/1 [00:00<?, ?it/s]"
      ]
     },
     "metadata": {},
     "output_type": "display_data"
    },
    {
     "data": {
      "application/vnd.jupyter.widget-view+json": {
       "model_id": "b7915765e823493f9e71ff4594563a17",
       "version_major": 2,
       "version_minor": 0
      },
      "text/plain": [
       "Export report to file:   0%|          | 0/1 [00:00<?, ?it/s]"
      ]
     },
     "metadata": {},
     "output_type": "display_data"
    }
   ],
   "source": [
    "profile.to_file(\"MySteps_report.html\")"
   ]
  },
  {
   "cell_type": "code",
   "execution_count": null,
   "id": "8b792fd3-dcea-42a5-a7df-08c8bc360656",
   "metadata": {},
   "outputs": [],
   "source": []
  }
 ],
 "metadata": {
  "kernelspec": {
   "display_name": "Python 3 (ipykernel)",
   "language": "python",
   "name": "python3"
  },
  "language_info": {
   "codemirror_mode": {
    "name": "ipython",
    "version": 3
   },
   "file_extension": ".py",
   "mimetype": "text/x-python",
   "name": "python",
   "nbconvert_exporter": "python",
   "pygments_lexer": "ipython3",
   "version": "3.11.11"
  }
 },
 "nbformat": 4,
 "nbformat_minor": 5
}
